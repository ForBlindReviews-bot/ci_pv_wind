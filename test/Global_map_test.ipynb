{
 "cells": [
  {
   "cell_type": "code",
   "execution_count": null,
   "id": "99a94a57-eae5-41b2-ada3-7dd37fc8c1bc",
   "metadata": {},
   "outputs": [],
   "source": [
    "# A new environment is recommended:\n",
    "# conda create -n test_env python numpy h5py xarray rioxarray netCDF4 jupyter matplotlib pandas\n",
    "# conda activate test_env\n",
    "# pip install pvlib windpowerlib"
   ]
  },
  {
   "cell_type": "markdown",
   "id": "703b2e16-5551-4c2d-b03c-5cdf1c083156",
   "metadata": {},
   "source": [
    "# Test of daily PV power production map\n",
    "## 1. read one-year climate data"
   ]
  },
  {
   "cell_type": "code",
   "execution_count": 1,
   "id": "a46a34d7-f7a8-4653-8cc1-32fa3e538d26",
   "metadata": {},
   "outputs": [
    {
     "name": "stdout",
     "output_type": "stream",
     "text": [
      "2015 finished: combine data 0:01:05.611233\n"
     ]
    }
   ],
   "source": [
    "# -*- coding: utf-8 -*-\n",
    "import numpy as np\n",
    "import datetime\n",
    "import re\n",
    "import gc\n",
    "import os\n",
    "import xarray as xr\n",
    "\n",
    "# set \n",
    "scenario = ['historical', 'ssp126', 'ssp245', 'ssp370', 'ssp585']\n",
    "climate_models = 'ACCESS-ESM1-5'            \n",
    "s = 2\n",
    "year = 2015\n",
    "\n",
    "#\n",
    "# Read the variables\n",
    "#\n",
    "t = datetime.datetime.now()\n",
    "tasmax = xr.open_dataset( './data/tasmax_day_ACCESS-ESM1-5_ssp245_r1i1p1f1_gn_2015.nc' )['tasmax']\n",
    "tasmax.coords['lon'] = (tasmax.coords['lon'] + 180) % 360 - 180\n",
    "tasmax = tasmax.sortby(tasmax.lon) \n",
    "tasmax = tasmax.sortby(tasmax.lat, ascending = False) \n",
    "\n",
    "\n",
    "\n",
    "tasmin = xr.open_dataset('./data/tasmin_day_ACCESS-ESM1-5_ssp245_r1i1p1f1_gn_2015.nc')['tasmin'] \n",
    "tasmin.coords['lon'] = (tasmin.coords['lon'] + 180) % 360 - 180\n",
    "tasmin = tasmin.sortby(tasmin.lon) \n",
    "tasmin = tasmin.sortby(tasmin.lat, ascending = False) \n",
    "\n",
    "\n",
    "\n",
    "tas = xr.open_dataset('./data/tas_day_ACCESS-ESM1-5_ssp245_r1i1p1f1_gn_2015.nc')['tas']   \n",
    "tas.coords['lon'] = (tas.coords['lon'] + 180) % 360 - 180\n",
    "tas = tas.sortby(tas.lon) \n",
    "tas = tas.sortby(tas.lat, ascending = False) \n",
    "\n",
    "\n",
    "\n",
    "rsds = xr.open_dataset( './data/rsds_day_ACCESS-ESM1-5_ssp245_r1i1p1f1_gn_2015.nc')['rsds'] \n",
    "rsds.coords['lon'] = (rsds.coords['lon'] + 180) % 360 - 180\n",
    "rsds = rsds.sortby(rsds.lon) \n",
    "rsds = rsds.sortby(rsds.lat, ascending = False) \n",
    "rsds.values[rsds.values<0] = 0\n",
    "rsds.values[rsds.values>600] = 600\n",
    "\n",
    "\n",
    "wind_speed = xr.open_dataset('./data/sfcWind_day_ACCESS-ESM1-5_ssp245_r1i1p1f1_gn_2015.nc')['sfcWind'] \n",
    "wind_speed.coords['lon'] = (wind_speed.coords['lon'] + 180) % 360 - 180\n",
    "wind_speed = wind_speed.sortby(wind_speed.lon) \n",
    "wind_speed = wind_speed.sortby(wind_speed.lat, ascending = False)   \n",
    "\n",
    "\n",
    "# skip ocean\n",
    "pixel_type = np.full((len(tasmax.lat), len(tasmax.lon)), 0, dtype = np.int8)\n",
    "pixel_type[~np.isnan(tasmax[0,:])] = 1\n",
    "\n",
    "\n",
    "# Extract length info from one file\n",
    "days = wind_speed.shape[0]\n",
    "size = wind_speed.shape[1] * wind_speed.shape[2]\n",
    "\n",
    "# Extract lon/lat info from one file\n",
    "lat = wind_speed.lat.values\n",
    "lon = wind_speed.lon.values\n",
    "lons, lats = np.meshgrid(lon,lat) \n",
    "time = wind_speed.time.values\n",
    "\n",
    "years = [year for i in range(size)]\n",
    "\n",
    "quick_pmp = [1 for i in range(size)] \n",
    "hourly_output = [0 for i in range(size)] \n",
    "\n",
    "\n",
    "# combine\n",
    "# year, rs, temp_mean, temp_min, temp_max, wind_speed, lon, lat, \n",
    "input_para = np.array(list(zip(pixel_type.reshape(-1).T, \n",
    "                       years, \n",
    "                       rsds.values.reshape(rsds.shape[0],-1).T, \n",
    "                       wind_speed.values.reshape(wind_speed.shape[0],-1).T, \n",
    "                       tas.values.reshape(tas.shape[0],-1).T, \n",
    "                       tasmin.values.reshape(tasmin.shape[0],-1).T, \n",
    "                       tasmax.values.reshape(tasmax.shape[0],-1).T,                         \n",
    "                       lons.reshape(-1).T, \n",
    "                       lats.reshape(-1).T,\n",
    "                       quick_pmp,\n",
    "                       hourly_output    \n",
    "                   )), dtype=object)\n",
    "\n",
    "\n",
    "gc.collect()    \n",
    "print(year, 'finished: combine data', datetime.datetime.now()-t)"
   ]
  },
  {
   "cell_type": "markdown",
   "id": "6036b217-ae60-4108-81f5-62649ccb7c64",
   "metadata": {},
   "source": [
    "## 2. calculate global pv power map"
   ]
  },
  {
   "cell_type": "code",
   "execution_count": 2,
   "id": "62015312-d60a-4dc6-9c17-c5b81e30d442",
   "metadata": {},
   "outputs": [
    {
     "name": "stdout",
     "output_type": "stream",
     "text": [
      "9:22:49.955887\n"
     ]
    }
   ],
   "source": [
    "import multiprocessing  \n",
    "import pv_power_function_2025\n",
    "def multi_process(prim):\n",
    "    pool =multiprocessing.Pool(multiprocessing.cpu_count())\n",
    "    results=pool.map( pv_power_function_2025.main, prim)\n",
    "    out = list(results)\n",
    "    return out\n",
    "\n",
    "# run_global\n",
    "t = datetime.datetime.now()\n",
    "r = multi_process(input_para)\n",
    "print(datetime.datetime.now() - t )"
   ]
  },
  {
   "cell_type": "code",
   "execution_count": 3,
   "id": "f5cb132a-3b1e-45d7-960e-2018bc85eb52",
   "metadata": {},
   "outputs": [
    {
     "name": "stdout",
     "output_type": "stream",
     "text": [
      "finished output ACCESS-ESM1-5 ssp245 2015\n"
     ]
    }
   ],
   "source": [
    "maps = np.array(r, dtype = np.float32).reshape(len(lat), len(lon), len(time))   \n",
    "maps = xr.DataArray(maps, dims = ['lat','lon','time'], name = 'pv_power_production',\n",
    "                    coords={'lat': lat,'lon': lon, 'time':time})\n",
    "maps.attrs['units'] = 'Wh/m2'  \n",
    "\n",
    "if not os.path.exists('output'):\n",
    "    os.makedirs('output')\n",
    "    \n",
    "maps.to_netcdf(r'./output/demo_global_pv_power_' + scenario[s] + '_' + str(year) + '_' + climate_models +'.nc', \n",
    "               encoding={'pv_power_production': {'zlib': True, 'complevel': 6}}) \n",
    "\n",
    "print('finished output', climate_models, scenario[s], year)"
   ]
  },
  {
   "cell_type": "markdown",
   "id": "a2d5c0e3-456f-489b-909e-33589d072e65",
   "metadata": {},
   "source": [
    "# Test of daily wind power production map\n",
    "## 1. read one-year climate data"
   ]
  },
  {
   "cell_type": "code",
   "execution_count": 4,
   "id": "99888b00-02c2-4ab2-b39f-5741bf9cdd8e",
   "metadata": {},
   "outputs": [
    {
     "name": "stdout",
     "output_type": "stream",
     "text": [
      "2015 finished: combine data 0:00:50.843596\n"
     ]
    }
   ],
   "source": [
    "import numpy as np\n",
    "import datetime\n",
    "import re\n",
    "import gc\n",
    "import os\n",
    "import rioxarray\n",
    "import xarray as xr\n",
    "\n",
    "# set \n",
    "scenario = ['historical', 'ssp126', 'ssp245', 'ssp370', 'ssp585']\n",
    "climate_models = 'ACCESS-ESM1-5'            \n",
    "s = 2\n",
    "year = 2015\n",
    "\n",
    "#\n",
    "# Read the variables\n",
    "#\n",
    "t = datetime.datetime.now()\n",
    "tas = xr.open_dataset('./data/tas_day_ACCESS-ESM1-5_ssp245_r1i1p1f1_gn_2015.nc')['tas']   \n",
    "tas.coords['lon'] = (tas.coords['lon'] + 180) % 360 - 180\n",
    "tas = tas.sortby(tas.lon) \n",
    "tas = tas.sortby(tas.lat, ascending = False) \n",
    "\n",
    "\n",
    "wind_speed = xr.open_dataset('./data/sfcWind_day_ACCESS-ESM1-5_ssp245_r1i1p1f1_gn_2015.nc')['sfcWind'] \n",
    "wind_speed.coords['lon'] = (wind_speed.coords['lon'] + 180) % 360 - 180\n",
    "wind_speed = wind_speed.sortby(wind_speed.lon) \n",
    "wind_speed = wind_speed.sortby(wind_speed.lat, ascending = False)   \n",
    "\n",
    "\n",
    "# DEM\n",
    "dem_map = rioxarray.open_rasterio('./data/dem.tif')[0,:]\n",
    "dem_map.coords['x'] = (dem_map.coords['x'] + 180) % 360 - 180\n",
    "dem_map = dem_map.sortby(dem_map.x) \n",
    "dem_map = dem_map.sel(y = slice(89.75, -60))\n",
    "dem_map = dem_map.sortby(dem_map.y, ascending = False) \n",
    "\n",
    "#\n",
    "# read power law exponent \n",
    "alpha_map = xr.open_dataset('./data/alpha_mean_season_1985-2014.nc')['alpha']\n",
    "alpha_map = alpha_map.isel(lat=alpha_map.lat > -60)\n",
    "alpha_map = alpha_map.sel(season = wind_speed[\"time\"].dt.season)\n",
    "\n",
    "pixel_type = np.full((len(wind_speed.lat), len(wind_speed.lon)), 0, dtype = np.int8)\n",
    "pixel_type[~np.isnan(wind_speed[0,:])] = 1\n",
    "\n",
    "# combine\n",
    "input_para = np.array(list(zip(pixel_type.reshape(-1).T, \n",
    "                               tas.values.reshape(tas.shape[0],-1).T, \n",
    "                               dem_map.values.reshape(-1).T, \n",
    "                               wind_speed.values.reshape(wind_speed.shape[0],-1).T, \n",
    "                               alpha_map.values.reshape(alpha_map.shape[0],-1).T)), \n",
    "                      dtype = object)\n",
    "\n",
    "print(year, 'finished: combine data', datetime.datetime.now()-t)"
   ]
  },
  {
   "cell_type": "markdown",
   "id": "366a02e3-ed99-4cee-a571-35bc798ea98f",
   "metadata": {},
   "source": [
    "## 2. calculate global wind power map"
   ]
  },
  {
   "cell_type": "code",
   "execution_count": 5,
   "id": "caa0fe72-a614-4716-80e6-164e612c61a1",
   "metadata": {},
   "outputs": [
    {
     "name": "stdout",
     "output_type": "stream",
     "text": [
      "0:35:32.021144\n"
     ]
    }
   ],
   "source": [
    "import multiprocessing  \n",
    "import wind_power_function_2025\n",
    "def multi_process(prim):\n",
    "    pool =multiprocessing.Pool(multiprocessing.cpu_count())\n",
    "    results=pool.map( wind_power_function_2025.main, prim)\n",
    "    out = list(results)\n",
    "    return out\n",
    "    \n",
    "\n",
    "# run_global\n",
    "t = datetime.datetime.now()\n",
    "r = multi_process(input_para)\n",
    "print(datetime.datetime.now() - t )"
   ]
  },
  {
   "cell_type": "code",
   "execution_count": 6,
   "id": "c59e35d1-eaa9-4c8c-a15d-0438cbc73cda",
   "metadata": {},
   "outputs": [
    {
     "name": "stdout",
     "output_type": "stream",
     "text": [
      "finished output ACCESS-ESM1-5 ssp245 2015\n"
     ]
    }
   ],
   "source": [
    "maps = np.array(r, dtype = np.float32).reshape(wind_speed.shape[1], wind_speed.shape[2], days)\n",
    "\n",
    "lon = wind_speed.lon.values\n",
    "lat = wind_speed.lat.values\n",
    "time = wind_speed.time.values\n",
    "maps = xr.DataArray(maps, dims = ['lat','lon','time'], name = 'wind_power_production',\n",
    "                    coords={'lat': lat,'lon': lon, 'time':time})\n",
    "maps.attrs['units'] = 'W'   \n",
    "\n",
    "if not os.path.exists('output'):\n",
    "    os.makedirs('output')\n",
    "\n",
    "maps.to_netcdf(r'./output/demo_global_wind_power_' + scenario[s] + '_' + str(year) + '_' + climate_models +'.nc', \n",
    "               encoding={'wind_power_production': {'zlib': True, 'complevel': 6}}) \n",
    "\n",
    "print('finished output', climate_models, scenario[s], year)"
   ]
  },
  {
   "cell_type": "code",
   "execution_count": null,
   "id": "3e246be8-ecc7-4136-a39f-2e6654f24392",
   "metadata": {},
   "outputs": [],
   "source": []
  }
 ],
 "metadata": {
  "kernelspec": {
   "display_name": "Python 3 (ipykernel)",
   "language": "python",
   "name": "python3"
  },
  "language_info": {
   "codemirror_mode": {
    "name": "ipython",
    "version": 3
   },
   "file_extension": ".py",
   "mimetype": "text/x-python",
   "name": "python",
   "nbconvert_exporter": "python",
   "pygments_lexer": "ipython3",
   "version": "3.12.3"
  }
 },
 "nbformat": 4,
 "nbformat_minor": 5
}
